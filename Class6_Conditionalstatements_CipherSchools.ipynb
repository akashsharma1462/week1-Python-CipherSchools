{
  "nbformat": 4,
  "nbformat_minor": 0,
  "metadata": {
    "colab": {
      "provenance": [],
      "include_colab_link": true
    },
    "kernelspec": {
      "name": "python3",
      "display_name": "Python 3"
    },
    "language_info": {
      "name": "python"
    }
  },
  "cells": [
    {
      "cell_type": "markdown",
      "metadata": {
        "id": "view-in-github",
        "colab_type": "text"
      },
      "source": [
        "<a href=\"https://colab.research.google.com/github/akashsharma1462/week1-Python-CipherSchools/blob/main/Class6_Conditionalstatements_CipherSchools.ipynb\" target=\"_parent\"><img src=\"https://colab.research.google.com/assets/colab-badge.svg\" alt=\"Open In Colab\"/></a>"
      ]
    },
    {
      "cell_type": "code",
      "execution_count": null,
      "metadata": {
        "id": "HwOsp5I2uJkD"
      },
      "outputs": [],
      "source": [
        "if (true) {\n",
        "    \n",
        "    \n",
        "}"
      ]
    },
    {
      "cell_type": "code",
      "source": [
        "a=True\n",
        "if True"
      ],
      "metadata": {
        "id": "4XTBk-6DuYQ3"
      },
      "execution_count": null,
      "outputs": []
    },
    {
      "cell_type": "code",
      "source": [
        "# askldjf\n",
        "    # asdf\n",
        "    # alksdjf\n",
        "# asdf"
      ],
      "metadata": {
        "id": "enF6X4OzuYLL"
      },
      "execution_count": null,
      "outputs": []
    },
    {
      "cell_type": "code",
      "source": [
        "#1 indent = 2 spaces, 4 spaces, tab, 8 spaces"
      ],
      "metadata": {
        "id": "OOqAxZCxuYGP"
      },
      "execution_count": null,
      "outputs": []
    },
    {
      "cell_type": "code",
      "source": [
        "a = False\n",
        "\n",
        "if a:\n",
        "  print(\"the value is true\")\n",
        "print(\"end\")"
      ],
      "metadata": {
        "colab": {
          "base_uri": "https://localhost:8080/"
        },
        "id": "QE3jFVmQuYDy",
        "outputId": "d47c050e-8800-4300-cd7f-3e53c975afde"
      },
      "execution_count": null,
      "outputs": [
        {
          "output_type": "stream",
          "name": "stdout",
          "text": [
            "end\n"
          ]
        }
      ]
    },
    {
      "cell_type": "code",
      "source": [
        "a = True\n",
        "\n",
        "if a:\n",
        "  print(\"the value is true\")\n",
        "print(\"end\")"
      ],
      "metadata": {
        "colab": {
          "base_uri": "https://localhost:8080/"
        },
        "id": "8J2Is9p2uYBJ",
        "outputId": "76db81be-01bc-4292-db41-a22d71c333ed"
      },
      "execution_count": null,
      "outputs": [
        {
          "output_type": "stream",
          "name": "stdout",
          "text": [
            "the value is true\n",
            "end\n"
          ]
        }
      ]
    },
    {
      "cell_type": "code",
      "source": [
        "a = True\n",
        "\n",
        "if a:\n",
        "  print(\"this value is true\")\n",
        "else:\n",
        "  print(\"this is false\")"
      ],
      "metadata": {
        "colab": {
          "base_uri": "https://localhost:8080/"
        },
        "id": "TzdGVH73uX-H",
        "outputId": "4cb263cf-3683-4651-b108-c05cd8e335cf"
      },
      "execution_count": null,
      "outputs": [
        {
          "output_type": "stream",
          "name": "stdout",
          "text": [
            "this value is true\n"
          ]
        }
      ]
    },
    {
      "cell_type": "code",
      "source": [
        "a = 5\n",
        "\n",
        "if a == 3:\n",
        "  print(\"the value is 3\")\n",
        "elif a== 5:\n",
        "  print(\"this value is 5\")"
      ],
      "metadata": {
        "colab": {
          "base_uri": "https://localhost:8080/"
        },
        "id": "0bN6FIYzu2HT",
        "outputId": "ea2f4d4b-0c92-458c-c328-a5c3b2057035"
      },
      "execution_count": null,
      "outputs": [
        {
          "output_type": "stream",
          "name": "stdout",
          "text": [
            "this value is 5\n"
          ]
        }
      ]
    },
    {
      "cell_type": "code",
      "source": [
        "(\n",
        "    int a = 1\n",
        ")\n",
        "cout << a;"
      ],
      "metadata": {
        "colab": {
          "base_uri": "https://localhost:8080/",
          "height": 130
        },
        "id": "efsCgBz5u2Dq",
        "outputId": "9d71936c-7f95-40fc-a157-1a71032ea11f"
      },
      "execution_count": null,
      "outputs": [
        {
          "output_type": "error",
          "ename": "SyntaxError",
          "evalue": "ignored",
          "traceback": [
            "\u001b[0;36m  File \u001b[0;32m\"<ipython-input-10-3f8f71448e55>\"\u001b[0;36m, line \u001b[0;32m2\u001b[0m\n\u001b[0;31m    int a = 1\u001b[0m\n\u001b[0m        ^\u001b[0m\n\u001b[0;31mSyntaxError\u001b[0m\u001b[0;31m:\u001b[0m invalid syntax\n"
          ]
        }
      ]
    },
    {
      "cell_type": "code",
      "source": [
        "a = 5\n",
        "\n",
        "if a == 3:\n",
        "  print(\"this value is 3\")\n",
        "elif a == 5:\n",
        "  print(\"this value is 5\")\n",
        "else:\n",
        "  print(\"this value is not 3 or 5\")"
      ],
      "metadata": {
        "colab": {
          "base_uri": "https://localhost:8080/"
        },
        "id": "fJbAJHumuX2t",
        "outputId": "cd2004ba-de24-4c9b-9932-3fb2857b2d85"
      },
      "execution_count": null,
      "outputs": [
        {
          "output_type": "stream",
          "name": "stdout",
          "text": [
            "this value is 5\n"
          ]
        }
      ]
    },
    {
      "cell_type": "code",
      "source": [
        "x: int (-inf, inf)\n",
        "G -> x\n",
        "\n",
        "a = x < 0\n",
        "b = x == 0\n",
        "c = x > 0\n",
        "\n",
        "a int b = b int c = a int c = phi\n",
        "\n",
        "a u b u c := G\n",
        "\n",
        "#conditions are mutually exclusive"
      ],
      "metadata": {
        "colab": {
          "base_uri": "https://localhost:8080/",
          "height": 130
        },
        "id": "69wB0PMUvDB-",
        "outputId": "46191d0a-dcd5-4795-8508-5dd8b7517738"
      },
      "execution_count": null,
      "outputs": [
        {
          "output_type": "error",
          "ename": "SyntaxError",
          "evalue": "ignored",
          "traceback": [
            "\u001b[0;36m  File \u001b[0;32m\"<ipython-input-12-2d4a28782c13>\"\u001b[0;36m, line \u001b[0;32m2\u001b[0m\n\u001b[0;31m    G -> x\u001b[0m\n\u001b[0m       ^\u001b[0m\n\u001b[0;31mSyntaxError\u001b[0m\u001b[0;31m:\u001b[0m invalid syntax\n"
          ]
        }
      ]
    },
    {
      "cell_type": "code",
      "source": [
        "#Whats not cool with this approach?\n",
        "if x < 0:\n",
        "  sign = -1\n",
        "if x == 0:\n",
        "  sign = 0\n",
        "if x > 0:\n",
        "  sign = 1"
      ],
      "metadata": {
        "colab": {
          "base_uri": "https://localhost:8080/",
          "height": 235
        },
        "id": "bp-wvqLMvMca",
        "outputId": "629fa4f7-28da-4540-d511-f8c3801d8302"
      },
      "execution_count": null,
      "outputs": [
        {
          "output_type": "error",
          "ename": "NameError",
          "evalue": "ignored",
          "traceback": [
            "\u001b[0;31m---------------------------------------------------------------------------\u001b[0m",
            "\u001b[0;31mNameError\u001b[0m                                 Traceback (most recent call last)",
            "\u001b[0;32m<ipython-input-13-9442f8697447>\u001b[0m in \u001b[0;36m<module>\u001b[0;34m\u001b[0m\n\u001b[1;32m      1\u001b[0m \u001b[0;31m#Whats not cool with this approach?\u001b[0m\u001b[0;34m\u001b[0m\u001b[0;34m\u001b[0m\u001b[0;34m\u001b[0m\u001b[0m\n\u001b[0;32m----> 2\u001b[0;31m \u001b[0;32mif\u001b[0m \u001b[0mx\u001b[0m \u001b[0;34m<\u001b[0m \u001b[0;36m0\u001b[0m\u001b[0;34m:\u001b[0m\u001b[0;34m\u001b[0m\u001b[0;34m\u001b[0m\u001b[0m\n\u001b[0m\u001b[1;32m      3\u001b[0m   \u001b[0msign\u001b[0m \u001b[0;34m=\u001b[0m \u001b[0;34m-\u001b[0m\u001b[0;36m1\u001b[0m\u001b[0;34m\u001b[0m\u001b[0;34m\u001b[0m\u001b[0m\n\u001b[1;32m      4\u001b[0m \u001b[0;32mif\u001b[0m \u001b[0mx\u001b[0m \u001b[0;34m==\u001b[0m \u001b[0;36m0\u001b[0m\u001b[0;34m:\u001b[0m\u001b[0;34m\u001b[0m\u001b[0;34m\u001b[0m\u001b[0m\n\u001b[1;32m      5\u001b[0m   \u001b[0msign\u001b[0m \u001b[0;34m=\u001b[0m \u001b[0;36m0\u001b[0m\u001b[0;34m\u001b[0m\u001b[0;34m\u001b[0m\u001b[0m\n",
            "\u001b[0;31mNameError\u001b[0m: name 'x' is not defined"
          ]
        }
      ]
    },
    {
      "cell_type": "code",
      "source": [
        "q = can profile A access profile B\n",
        "\n",
        "a = isFriend\n",
        "b = isBlocked\n",
        "c = isAdmin\n",
        "d = isMarkzuckerburg\n",
        "\n",
        "a b c d q\n",
        "0 0 0 0 0\n",
        "0 0 0 1 1\n",
        "0 0 1 0 1\n",
        "0 0 1 1 1\n",
        "0 1 0 0 0 \n",
        "0 1 0 1 1\n",
        "0 1 1 0 0\n",
        "0 1 1 1 1\n",
        "1 0 0 0 1\n",
        "1 0 0 1 1\n",
        "1 0 1 0 1\n",
        "1 0 1 1 1\n",
        "1 1 0 0 0\n",
        "1 1 0 1 1\n",
        "1 1 1 0 0 \n",
        "1 1 1 1 1\n",
        "\n",
        "if ____:\n",
        "  print(\"has access\")\n",
        "else:\n",
        "  print(\"access denied\")"
      ],
      "metadata": {
        "colab": {
          "base_uri": "https://localhost:8080/",
          "height": 130
        },
        "id": "BsmL0RIivC_d",
        "outputId": "aaca76a8-e80a-48f0-c583-8ec330c6ca18"
      },
      "execution_count": null,
      "outputs": [
        {
          "output_type": "error",
          "ename": "SyntaxError",
          "evalue": "ignored",
          "traceback": [
            "\u001b[0;36m  File \u001b[0;32m\"<ipython-input-14-6b50c9225299>\"\u001b[0;36m, line \u001b[0;32m1\u001b[0m\n\u001b[0;31m    q = can profile A access profile B\u001b[0m\n\u001b[0m                  ^\u001b[0m\n\u001b[0;31mSyntaxError\u001b[0m\u001b[0;31m:\u001b[0m invalid syntax\n"
          ]
        }
      ]
    }
  ]
}