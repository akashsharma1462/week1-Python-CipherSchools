{
  "nbformat": 4,
  "nbformat_minor": 0,
  "metadata": {
    "colab": {
      "provenance": []
    },
    "kernelspec": {
      "name": "python3",
      "display_name": "Python 3"
    },
    "language_info": {
      "name": "python"
    }
  },
  "cells": [
    {
      "cell_type": "code",
      "execution_count": 1,
      "metadata": {
        "colab": {
          "base_uri": "https://localhost:8080/"
        },
        "id": "dI0EHn0jJmoo",
        "outputId": "1d519cb3-6dc9-4115-c48d-1ea8f60a68b1"
      },
      "outputs": [
        {
          "output_type": "stream",
          "name": "stdout",
          "text": [
            "1\n"
          ]
        }
      ],
      "source": [
        "a=1\n",
        "print(a)"
      ]
    },
    {
      "cell_type": "code",
      "source": [
        "a=200\n",
        "print(a)"
      ],
      "metadata": {
        "colab": {
          "base_uri": "https://localhost:8080/"
        },
        "id": "sDKbNHeEL7Zo",
        "outputId": "5583d704-fbba-45eb-e086-e3ec96917c89"
      },
      "execution_count": 2,
      "outputs": [
        {
          "output_type": "stream",
          "name": "stdout",
          "text": [
            "200\n"
          ]
        }
      ]
    },
    {
      "cell_type": "code",
      "source": [
        "type(a)"
      ],
      "metadata": {
        "colab": {
          "base_uri": "https://localhost:8080/"
        },
        "id": "TDSJGU98L-ys",
        "outputId": "f28e2ebb-c954-453f-a27c-f31ee1c676ec"
      },
      "execution_count": 3,
      "outputs": [
        {
          "output_type": "execute_result",
          "data": {
            "text/plain": [
              "int"
            ]
          },
          "metadata": {},
          "execution_count": 3
        }
      ]
    },
    {
      "cell_type": "code",
      "source": [
        "type(a)"
      ],
      "metadata": {
        "colab": {
          "base_uri": "https://localhost:8080/"
        },
        "id": "HYZgHbiaMBjB",
        "outputId": "94f446fe-b4ea-4b64-fdfd-6131e7dd1501"
      },
      "execution_count": 4,
      "outputs": [
        {
          "output_type": "execute_result",
          "data": {
            "text/plain": [
              "int"
            ]
          },
          "metadata": {},
          "execution_count": 4
        }
      ]
    },
    {
      "cell_type": "code",
      "source": [
        "a=225\n",
        "print(id(a))"
      ],
      "metadata": {
        "id": "S3kpnGPnMBuH"
      },
      "execution_count": null,
      "outputs": []
    },
    {
      "cell_type": "code",
      "source": [
        "print(hex(id(a)))"
      ],
      "metadata": {
        "id": "paq_x76CMEIr"
      },
      "execution_count": null,
      "outputs": []
    },
    {
      "cell_type": "code",
      "source": [
        "b=278\n",
        "print(id(b))"
      ],
      "metadata": {
        "id": "0JAnn2BBMEK8"
      },
      "execution_count": null,
      "outputs": []
    },
    {
      "cell_type": "code",
      "source": [
        "c=278\n",
        "print(id(c))"
      ],
      "metadata": {
        "id": "-fhrUekVMEO6"
      },
      "execution_count": null,
      "outputs": []
    },
    {
      "cell_type": "code",
      "source": [
        "a=1\n",
        "print(a)"
      ],
      "metadata": {
        "id": "AWCbWgaTMf9C"
      },
      "execution_count": null,
      "outputs": []
    },
    {
      "cell_type": "code",
      "source": [
        "a=200\n",
        "print(a)"
      ],
      "metadata": {
        "id": "GyPBaZIMMESQ"
      },
      "execution_count": null,
      "outputs": []
    },
    {
      "cell_type": "code",
      "source": [
        "type(a)"
      ],
      "metadata": {
        "id": "NM5fsLQjMnXF"
      },
      "execution_count": null,
      "outputs": []
    },
    {
      "cell_type": "code",
      "source": [
        "type(a)"
      ],
      "metadata": {
        "id": "8QNTO7Z2MnaZ"
      },
      "execution_count": null,
      "outputs": []
    },
    {
      "cell_type": "code",
      "source": [
        "a=225\n",
        "print(id(a))"
      ],
      "metadata": {
        "id": "2K4UWXVsMr47"
      },
      "execution_count": null,
      "outputs": []
    },
    {
      "cell_type": "code",
      "source": [
        "print(hex(id(a)))"
      ],
      "metadata": {
        "id": "pL2AtEj7MdxQ"
      },
      "execution_count": null,
      "outputs": []
    },
    {
      "cell_type": "code",
      "source": [
        "b=278\n",
        "print(id(b))"
      ],
      "metadata": {
        "id": "G4z3Lo50Md0q"
      },
      "execution_count": null,
      "outputs": []
    },
    {
      "cell_type": "code",
      "source": [
        "c=278\n",
        "print(id(c))"
      ],
      "metadata": {
        "id": "yhn2bUO1M3__"
      },
      "execution_count": null,
      "outputs": []
    }
  ]
}