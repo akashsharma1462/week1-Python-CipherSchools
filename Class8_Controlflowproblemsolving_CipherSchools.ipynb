{
  "nbformat": 4,
  "nbformat_minor": 0,
  "metadata": {
    "colab": {
      "provenance": [],
      "include_colab_link": true
    },
    "kernelspec": {
      "name": "python3",
      "display_name": "Python 3"
    },
    "language_info": {
      "name": "python"
    }
  },
  "cells": [
    {
      "cell_type": "markdown",
      "metadata": {
        "id": "view-in-github",
        "colab_type": "text"
      },
      "source": [
        "<a href=\"https://colab.research.google.com/github/akashsharma1462/week1-Python-CipherSchools/blob/main/Class8_Controlflowproblemsolving_CipherSchools.ipynb\" target=\"_parent\"><img src=\"https://colab.research.google.com/assets/colab-badge.svg\" alt=\"Open In Colab\"/></a>"
      ]
    },
    {
      "cell_type": "code",
      "execution_count": null,
      "metadata": {
        "id": "rG9s5H8jv_pk",
        "colab": {
          "base_uri": "https://localhost:8080/"
        },
        "outputId": "0002da18-9876-4273-cc3c-3737ff52ff95"
      },
      "outputs": [
        {
          "output_type": "stream",
          "name": "stdout",
          "text": [
            "0 0 0 0 0 \n",
            "1 1 1 1 1 \n",
            "2 2 2 2 2 \n",
            "3 3 3 3 3 \n",
            "4 4 4 4 4 \n"
          ]
        }
      ],
      "source": [
        "n = 5\n",
        "for i in range(n):\n",
        "    for j in range(n):\n",
        "        print(i, end = \" \")\n",
        "    print()"
      ]
    },
    {
      "cell_type": "code",
      "source": [
        "n = 5\n",
        "for i in range(n):\n",
        "  for j in range(n):\n",
        "    print(i, end = \" \")\n",
        "    print()"
      ],
      "metadata": {
        "id": "DfyWWwwxwGlY",
        "colab": {
          "base_uri": "https://localhost:8080/"
        },
        "outputId": "2a919c7c-5c61-439b-d9b1-d2cf98f0b54d"
      },
      "execution_count": null,
      "outputs": [
        {
          "output_type": "stream",
          "name": "stdout",
          "text": [
            "0 \n",
            "0 \n",
            "0 \n",
            "0 \n",
            "0 \n",
            "1 \n",
            "1 \n",
            "1 \n",
            "1 \n",
            "1 \n",
            "2 \n",
            "2 \n",
            "2 \n",
            "2 \n",
            "2 \n",
            "3 \n",
            "3 \n",
            "3 \n",
            "3 \n",
            "3 \n",
            "4 \n",
            "4 \n",
            "4 \n",
            "4 \n",
            "4 \n"
          ]
        }
      ]
    },
    {
      "cell_type": "code",
      "source": [
        "n = 5\n",
        "for i in range(n):\n",
        "    for j in range(n):\n",
        "        print(n-j, end = \" \")\n",
        "    print()"
      ],
      "metadata": {
        "id": "8wqojRlUwGjh",
        "colab": {
          "base_uri": "https://localhost:8080/"
        },
        "outputId": "5a402c12-2df0-48b8-ba3a-c86640a9b2fe"
      },
      "execution_count": null,
      "outputs": [
        {
          "output_type": "stream",
          "name": "stdout",
          "text": [
            "5 4 3 2 1 \n",
            "5 4 3 2 1 \n",
            "5 4 3 2 1 \n",
            "5 4 3 2 1 \n",
            "5 4 3 2 1 \n"
          ]
        }
      ]
    },
    {
      "cell_type": "code",
      "source": [
        "n = 5\n",
        "for i in range(n):\n",
        "    for j in range(n):\n",
        "        print(n-j-1, end = \" \")\n",
        "    print()\n",
        "In [ ]:"
      ],
      "metadata": {
        "id": "X5UlHbAVwGiB"
      },
      "execution_count": null,
      "outputs": []
    },
    {
      "cell_type": "code",
      "source": [
        "n = 5\n",
        "for i in range(n):\n",
        "    for j in range(n):\n",
        "        print(j+1, end = \" \")\n",
        "    print()"
      ],
      "metadata": {
        "id": "JsYkz55lwGfj",
        "colab": {
          "base_uri": "https://localhost:8080/"
        },
        "outputId": "c6c4505f-9368-4e23-8136-ef504aa9a375"
      },
      "execution_count": null,
      "outputs": [
        {
          "output_type": "stream",
          "name": "stdout",
          "text": [
            "1 2 3 4 5 \n",
            "1 2 3 4 5 \n",
            "1 2 3 4 5 \n",
            "1 2 3 4 5 \n",
            "1 2 3 4 5 \n"
          ]
        }
      ]
    },
    {
      "cell_type": "code",
      "source": [
        "max(1, 2, 3, 4, 5, 7)"
      ],
      "metadata": {
        "id": "mtw2UbIKwGdE",
        "colab": {
          "base_uri": "https://localhost:8080/"
        },
        "outputId": "31a36474-60ac-4bb6-c288-0d63ce1538e1"
      },
      "execution_count": null,
      "outputs": [
        {
          "output_type": "execute_result",
          "data": {
            "text/plain": [
              "7"
            ]
          },
          "metadata": {},
          "execution_count": 6
        }
      ]
    },
    {
      "cell_type": "code",
      "source": [
        "n = 18\n",
        "for i in range(n):\n",
        "    for j in range(n):\n",
        "        print(max(i+1, j+1, n-i, n-j), end = \" \")\n",
        "    print()"
      ],
      "metadata": {
        "id": "98qeFpx6wGaU",
        "colab": {
          "base_uri": "https://localhost:8080/"
        },
        "outputId": "23f0f199-8a21-4d2c-d898-32ac00aab78e"
      },
      "execution_count": null,
      "outputs": [
        {
          "output_type": "stream",
          "name": "stdout",
          "text": [
            "18 18 18 18 18 18 18 18 18 18 18 18 18 18 18 18 18 18 \n",
            "18 17 17 17 17 17 17 17 17 17 17 17 17 17 17 17 17 18 \n",
            "18 17 16 16 16 16 16 16 16 16 16 16 16 16 16 16 17 18 \n",
            "18 17 16 15 15 15 15 15 15 15 15 15 15 15 15 16 17 18 \n",
            "18 17 16 15 14 14 14 14 14 14 14 14 14 14 15 16 17 18 \n",
            "18 17 16 15 14 13 13 13 13 13 13 13 13 14 15 16 17 18 \n",
            "18 17 16 15 14 13 12 12 12 12 12 12 13 14 15 16 17 18 \n",
            "18 17 16 15 14 13 12 11 11 11 11 12 13 14 15 16 17 18 \n",
            "18 17 16 15 14 13 12 11 10 10 11 12 13 14 15 16 17 18 \n",
            "18 17 16 15 14 13 12 11 10 10 11 12 13 14 15 16 17 18 \n",
            "18 17 16 15 14 13 12 11 11 11 11 12 13 14 15 16 17 18 \n",
            "18 17 16 15 14 13 12 12 12 12 12 12 13 14 15 16 17 18 \n",
            "18 17 16 15 14 13 13 13 13 13 13 13 13 14 15 16 17 18 \n",
            "18 17 16 15 14 14 14 14 14 14 14 14 14 14 15 16 17 18 \n",
            "18 17 16 15 15 15 15 15 15 15 15 15 15 15 15 16 17 18 \n",
            "18 17 16 16 16 16 16 16 16 16 16 16 16 16 16 16 17 18 \n",
            "18 17 17 17 17 17 17 17 17 17 17 17 17 17 17 17 17 18 \n",
            "18 18 18 18 18 18 18 18 18 18 18 18 18 18 18 18 18 18 \n"
          ]
        }
      ]
    },
    {
      "cell_type": "code",
      "source": [
        "n = 5\n",
        "for i in range(n):\n",
        "    for j in range(n):\n",
        "      i, j\n",
        "      print((i,j), end = \" \")\n",
        "    print()"
      ],
      "metadata": {
        "id": "hjjQMB0RwGU5",
        "colab": {
          "base_uri": "https://localhost:8080/"
        },
        "outputId": "12b9135c-bba1-439d-816a-696fb2b43145"
      },
      "execution_count": null,
      "outputs": [
        {
          "output_type": "stream",
          "name": "stdout",
          "text": [
            "(0, 0) (0, 1) (0, 2) (0, 3) (0, 4) \n",
            "(1, 0) (1, 1) (1, 2) (1, 3) (1, 4) \n",
            "(2, 0) (2, 1) (2, 2) (2, 3) (2, 4) \n",
            "(3, 0) (3, 1) (3, 2) (3, 3) (3, 4) \n",
            "(4, 0) (4, 1) (4, 2) (4, 3) (4, 4) \n"
          ]
        }
      ]
    },
    {
      "cell_type": "code",
      "source": [
        "for i in range(n):\n",
        "    for j in range(n):\n",
        "        print(i, end = \" \")\n",
        "    print()"
      ],
      "metadata": {
        "colab": {
          "base_uri": "https://localhost:8080/"
        },
        "id": "zJJW6mhUFGHf",
        "outputId": "a22a1fe8-67e9-4501-d58e-eb5b7e83be41"
      },
      "execution_count": null,
      "outputs": [
        {
          "output_type": "stream",
          "name": "stdout",
          "text": [
            "0 0 0 0 0 \n",
            "1 1 1 1 1 \n",
            "2 2 2 2 2 \n",
            "3 3 3 3 3 \n",
            "4 4 4 4 4 \n"
          ]
        }
      ]
    },
    {
      "cell_type": "code",
      "source": [
        "n = 5\n",
        "for i in range(n):\n",
        "    for j in range(n):\n",
        "        print(j, end = \" \")\n",
        "    print()"
      ],
      "metadata": {
        "colab": {
          "base_uri": "https://localhost:8080/"
        },
        "id": "_rc3hTEjFGiE",
        "outputId": "50f2f5c4-6ae7-4788-d891-0206f95f644e"
      },
      "execution_count": null,
      "outputs": [
        {
          "output_type": "stream",
          "name": "stdout",
          "text": [
            "0 1 2 3 4 \n",
            "0 1 2 3 4 \n",
            "0 1 2 3 4 \n",
            "0 1 2 3 4 \n",
            "0 1 2 3 4 \n"
          ]
        }
      ]
    },
    {
      "cell_type": "code",
      "source": [
        "n = 5\n",
        "for i in range(n):\n",
        "    for j in range(n):\n",
        "        print(max(i,j), end = \" \")\n",
        "    print()"
      ],
      "metadata": {
        "colab": {
          "base_uri": "https://localhost:8080/"
        },
        "id": "XyTrejQhFKqP",
        "outputId": "4565ccb0-749c-4579-a8cb-10f4601bd7f7"
      },
      "execution_count": null,
      "outputs": [
        {
          "output_type": "stream",
          "name": "stdout",
          "text": [
            "0 1 2 3 4 \n",
            "1 1 2 3 4 \n",
            "2 2 2 3 4 \n",
            "3 3 3 3 4 \n",
            "4 4 4 4 4 \n"
          ]
        }
      ]
    },
    {
      "cell_type": "code",
      "source": [
        "n = 5\n",
        "for i in range(n):\n",
        "    for j in range(n):\n",
        "        print(n-i, end = \" \")\n",
        "    print()"
      ],
      "metadata": {
        "colab": {
          "base_uri": "https://localhost:8080/"
        },
        "id": "t4XmJvBjFKfv",
        "outputId": "ae9e63af-8077-4590-bebf-851bb39232c5"
      },
      "execution_count": null,
      "outputs": [
        {
          "output_type": "stream",
          "name": "stdout",
          "text": [
            "5 5 5 5 5 \n",
            "4 4 4 4 4 \n",
            "3 3 3 3 3 \n",
            "2 2 2 2 2 \n",
            "1 1 1 1 1 \n"
          ]
        }
      ]
    },
    {
      "cell_type": "code",
      "source": [
        "n = 5\n",
        "for i in range(n):\n",
        "    for j in range(n):\n",
        "        print(n-i-1, end = \" \")\n",
        "    print()"
      ],
      "metadata": {
        "colab": {
          "base_uri": "https://localhost:8080/"
        },
        "id": "-ZaHyZBFFYAn",
        "outputId": "d1595bfc-f23e-4e3a-80b4-59d42ff8c227"
      },
      "execution_count": null,
      "outputs": [
        {
          "output_type": "stream",
          "name": "stdout",
          "text": [
            "4 4 4 4 4 \n",
            "3 3 3 3 3 \n",
            "2 2 2 2 2 \n",
            "1 1 1 1 1 \n",
            "0 0 0 0 0 \n"
          ]
        }
      ]
    },
    {
      "cell_type": "code",
      "source": [
        "n = 5\n",
        "for i in range(n):\n",
        "    for j in range(n):\n",
        "        print(n-j-1, end = \" \")\n",
        "    print()"
      ],
      "metadata": {
        "colab": {
          "base_uri": "https://localhost:8080/"
        },
        "id": "3Lv_zkQZFZm6",
        "outputId": "d3e97873-6232-4bba-da30-9199326a628d"
      },
      "execution_count": null,
      "outputs": [
        {
          "output_type": "stream",
          "name": "stdout",
          "text": [
            "4 3 2 1 0 \n",
            "4 3 2 1 0 \n",
            "4 3 2 1 0 \n",
            "4 3 2 1 0 \n",
            "4 3 2 1 0 \n"
          ]
        }
      ]
    },
    {
      "cell_type": "code",
      "source": [
        "n = 5\n",
        "for i in range(n):\n",
        "    for j in range(n):\n",
        "        print(max(n-j-1, n-i-1), end = \" \")\n",
        "    print()"
      ],
      "metadata": {
        "colab": {
          "base_uri": "https://localhost:8080/"
        },
        "id": "mtFyn6NZFdwn",
        "outputId": "f73fc3a9-71b4-4807-f700-0a590acd25b7"
      },
      "execution_count": null,
      "outputs": [
        {
          "output_type": "stream",
          "name": "stdout",
          "text": [
            "4 4 4 4 4 \n",
            "4 3 3 3 3 \n",
            "4 3 2 2 2 \n",
            "4 3 2 1 1 \n",
            "4 3 2 1 0 \n"
          ]
        }
      ]
    },
    {
      "cell_type": "code",
      "source": [
        "n = 5\n",
        "for i in range(n):\n",
        "    for j in range(n):\n",
        "        print(\n",
        "            max(max(i+1, j+1),max(n-j, n-i)\n",
        "        ), end = \" \")\n",
        "    print()"
      ],
      "metadata": {
        "colab": {
          "base_uri": "https://localhost:8080/"
        },
        "id": "zXga3u1PFh52",
        "outputId": "3ff9ed0c-246c-404d-ea1a-fdd8d13605e3"
      },
      "execution_count": null,
      "outputs": [
        {
          "output_type": "stream",
          "name": "stdout",
          "text": [
            "5 5 5 5 5 \n",
            "5 4 4 4 5 \n",
            "5 4 3 4 5 \n",
            "5 4 4 4 5 \n",
            "5 5 5 5 5 \n"
          ]
        }
      ]
    },
    {
      "cell_type": "code",
      "source": [
        "sum([1, 2, 3, 4, 5, 5, 6, 7, 8, 9])"
      ],
      "metadata": {
        "colab": {
          "base_uri": "https://localhost:8080/"
        },
        "id": "2qv0jErnFo2E",
        "outputId": "7cdb8de4-142d-4df3-981c-6dc5a3074e2c"
      },
      "execution_count": null,
      "outputs": [
        {
          "output_type": "execute_result",
          "data": {
            "text/plain": [
              "50"
            ]
          },
          "metadata": {},
          "execution_count": 17
        }
      ]
    }
  ]
}